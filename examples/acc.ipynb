{
 "cells": [
  {
   "cell_type": "code",
   "execution_count": 1,
   "metadata": {},
   "outputs": [],
   "source": [
    " %load_ext autoreload"
   ]
  },
  {
   "cell_type": "code",
   "execution_count": 2,
   "metadata": {},
   "outputs": [],
   "source": [
    "from cbf_opt import asif, cbf, dynamics\n",
    "import numpy as np\n",
    "import matplotlib.pyplot as plt"
   ]
  },
  {
   "cell_type": "code",
   "execution_count": 3,
   "metadata": {},
   "outputs": [],
   "source": [
    "class ACC_Dynamics(dynamics.ControlAffineDynamics):\n",
    "    def __init__(self, params, **kwargs):\n",
    "        params['n_dims'] = 3\n",
    "        params['control_dims'] = 1  # TODO: How to do this correctly?\n",
    "        super().__init__(params, **kwargs)\n",
    "        self.mass = params[\"mass\"]\n",
    "        self.g = params[\"g\"]\n",
    "        self.f0 = params[\"f0\"]\n",
    "        self.f1 = params[\"f1\"]\n",
    "        self.f2 = params[\"f2\"]\n",
    "        self.rolling_resistance = lambda x: self.f0 + self.f1 * x[1] + self.f2 * x[1] ** 2\n",
    "        self.v0 = params[\"v0\"]\n",
    "\n",
    "    def open_loop_dynamics(self, state, time=None):\n",
    "        return np.array([state[1], -1 / self.mass * self.rolling_resistance(state), self.v0 - state[1]])\n",
    "\n",
    "    def control_jacobian(self, state, time=None):\n",
    "        return np.expand_dims(np.array([0, 1 / self.mass, 0]), axis=-1)"
   ]
  },
  {
   "cell_type": "code",
   "execution_count": 4,
   "metadata": {},
   "outputs": [],
   "source": [
    "class ACC_CBF(cbf.ControlAffineCBF):\n",
    "    def __init__(self, dynamics, params, **kwargs):\n",
    "        super().__init__(dynamics, params, **kwargs)\n",
    "        self.Th = params[\"Th\"]\n",
    "        self.cd = params[\"cd\"]\n",
    "\n",
    "    def vf(self, state, time=None):\n",
    "        return state[2] - self.Th * (state[1] - self.dynamics.v0) ** 2 / (2 * self.cd * self.dynamics.g)\n",
    "\n",
    "    def vf_dt_partial(self, state, time=None):\n",
    "        return 0.0\n",
    "    \n",
    "    def _grad_vf(self, state, time=None):\n",
    "        return np.array([0.0, -self.Th * (state[1] - self.dynamics.v0) / (self.cd * self.dynamics.g), 1.0])"
   ]
  },
  {
   "cell_type": "code",
   "execution_count": 5,
   "metadata": {},
   "outputs": [],
   "source": [
    "params = dict()\n",
    "params[\"n_dims\"] = 3\n",
    "params[\"control_dims\"] = 1\n",
    "params[\"dt\"] = 0.01\n",
    "params[\"g\"] = 9.81\n",
    "params['v0'] = 14  # lead vehicle velocity\n",
    "params['f0'] = 0.1  # friction coefficient\n",
    "params['f1'] = 5  # friction coefficient\n",
    "params['f2'] = 0.25  # friction coefficient\n",
    "params['mass'] = 1650  # vehicle mass\n",
    "\n",
    "acc = ACC_Dynamics(params)"
   ]
  },
  {
   "cell_type": "code",
   "execution_count": 6,
   "metadata": {},
   "outputs": [],
   "source": [
    "cbf_params = dict()\n",
    "cbf_params[\"cd\"] = 0.3\n",
    "cbf_params[\"Th\"] = 1.8\n",
    "acc_cbf = ACC_CBF(acc, cbf_params)"
   ]
  },
  {
   "cell_type": "code",
   "execution_count": 7,
   "metadata": {},
   "outputs": [],
   "source": [
    "vd = 24\n",
    "umax = cbf_params['cd'] * params['mass'] * params['g']\n",
    "umin = -umax\n",
    "alpha = lambda x: 5 * x\n",
    "nominal_policy = lambda x, t: np.atleast_1d(np.clip(-1000 * (x[1] - vd), umin, umax))\n",
    "acc_asif = asif.ControlAffineASIF(acc, acc_cbf, alpha=alpha, nominal_policy=nominal_policy)"
   ]
  },
  {
   "cell_type": "code",
   "execution_count": 8,
   "metadata": {},
   "outputs": [],
   "source": [
    "x0 = np.array([0, 20, 100])\n",
    "states = [x0]\n",
    "control = []\n",
    "control_filt = []\n",
    "x_filt = x0 \n",
    "states_filt = [x0]\n",
    "x = x0\n",
    "for i in np.arange(0, 10, params['dt']):\n",
    "    input_nom = nominal_policy(x, i)\n",
    "    x = acc.step(x, input_nom)\n",
    "    input_mod = np.atleast_1d(np.clip(acc_asif(x_filt), umin, umax))\n",
    "    x_filt = acc.step(x_filt, input_mod)\n",
    "    states.append(x)\n",
    "    states_filt.append(x_filt)\n",
    "    control.append(input_nom)\n",
    "    control_filt.append(input_mod)\n",
    "states = np.array(states)\n",
    "states_filt = np.array(states_filt)\n"
   ]
  },
  {
   "cell_type": "code",
   "execution_count": 9,
   "metadata": {},
   "outputs": [
    {
     "data": {
      "text/plain": [
       "[<matplotlib.lines.Line2D at 0x7fad3152eb00>]"
      ]
     },
     "execution_count": 9,
     "metadata": {},
     "output_type": "execute_result"
    },
    {
     "data": {
      "image/png": "[encoded data removed]",
      "text/plain": [
       "<Figure size 432x288 with 1 Axes>"
      ]
     },
     "metadata": {
      "needs_background": "light"
     },
     "output_type": "display_data"
    }
   ],
   "source": [
    "plt.plot(states[:,2])\n",
    "plt.plot(states_filt[:,2])"
   ]
  },
  {
   "cell_type": "code",
   "execution_count": 10,
   "metadata": {},
   "outputs": [
    {
     "data": {
      "text/plain": [
       "[<matplotlib.lines.Line2D at 0x7fad291635c0>]"
      ]
     },
     "execution_count": 10,
     "metadata": {},
     "output_type": "execute_result"
    },
    {
     "data": {
      "image/png": "[encoded data removed]",
      "text/plain": [
       "<Figure size 432x288 with 1 Axes>"
      ]
     },
     "metadata": {
      "needs_background": "light"
     },
     "output_type": "display_data"
    }
   ],
   "source": [
    "plt.plot(states[:,1])\n",
    "plt.plot(states_filt[:,1])"
   ]
  },
  {
   "cell_type": "code",
   "execution_count": 11,
   "metadata": {},
   "outputs": [
    {
     "data": {
      "text/plain": [
       "[<matplotlib.lines.Line2D at 0x7fad29082a90>]"
      ]
     },
     "execution_count": 11,
     "metadata": {},
     "output_type": "execute_result"
    },
    {
     "data": {
      "image/png": "[encoded data removed]",
      "text/plain": [
       "<Figure size 432x288 with 1 Axes>"
      ]
     },
     "metadata": {
      "needs_background": "light"
     },
     "output_type": "display_data"
    }
   ],
   "source": [
    "plt.plot(control)\n",
    "plt.plot(control_filt)"
   ]
  }
 ],
 "metadata": {
  "interpreter": {
   "hash": "dd18f8e864d9e4797648b1faf96fda588ea380f7d87c56edba86c66e29d094cc"
  },
  "kernelspec": {
   "display_name": "Python 3.6.13 64-bit ('cbf_hjr': conda)",
   "language": "python",
   "name": "python3"
  },
  "language_info": {
   "codemirror_mode": {
    "name": "ipython",
    "version": 3
   },
   "file_extension": ".py",
   "mimetype": "text/x-python",
   "name": "python",
   "nbconvert_exporter": "python",
   "pygments_lexer": "ipython3",
   "version": "3.6.15"
  },
  "orig_nbformat": 4
 },
 "nbformat": 4,
 "nbformat_minor": 2
}
